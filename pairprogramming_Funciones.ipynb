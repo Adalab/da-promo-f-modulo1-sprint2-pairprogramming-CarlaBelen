{
 "cells": [
  {
   "cell_type": "markdown",
   "metadata": {},
   "source": [
    "1.Calcular el área de un círculo.\n",
    "Descripción: Crea una función llamada calcular_area_circulo que tome el radio como parámetro y devuelva el área del círculo.\n",
    "NOTA: Os dejamos  un link para recordar comose calculaba el área de un círculo."
   ]
  },
  {
   "cell_type": "code",
   "execution_count": 5,
   "metadata": {},
   "outputs": [
    {
     "name": "stdout",
     "output_type": "stream",
     "text": [
      "706.5\n"
     ]
    }
   ],
   "source": [
    "area=0\n",
    "def calcular_area_circulo(radio):\n",
    "    pi = 3.14\n",
    "    area = pi * radio ** 2\n",
    "    return area\n",
    "    \n",
    "radio = float(input('Introduzca el radio en cms'))\n",
    "print(calcular_area_circulo(radio))\n"
   ]
  },
  {
   "cell_type": "markdown",
   "metadata": {},
   "source": [
    "2.Contar la cantidad de caracteres en una cadena.\n",
    "Descripción: Crea una función llamada contar_caracteres que tome una cadena como parámetro y devuelva la cantidad de caracteres que contiene"
   ]
  },
  {
   "cell_type": "code",
   "execution_count": 7,
   "metadata": {},
   "outputs": [
    {
     "name": "stdout",
     "output_type": "stream",
     "text": [
      "6\n"
     ]
    }
   ],
   "source": [
    "def contar_caracteres(*args):\n",
    "    cantidad_caracteres = len(args)\n",
    "    print(cantidad_caracteres)\n",
    "contar_caracteres(1,2,3,4,5,6)\n"
   ]
  },
  {
   "cell_type": "markdown",
   "metadata": {},
   "source": [
    "3.Determinar si una cadena es un palíndromo.\n",
    "Descripción: Crea una función llamada es_palindromo que tome una cadena como parámetro y devuelva True si es un palíndromo, o False si no lo es.\n",
    "​"
   ]
  },
  {
   "cell_type": "code",
   "execution_count": 26,
   "metadata": {},
   "outputs": [
    {
     "name": "stdout",
     "output_type": "stream",
     "text": [
      "['r', 'o', 'm', 'a']\n",
      "['a', 'm', 'o', 'r']\n"
     ]
    }
   ],
   "source": [
    "palabra = list(input(' Es un palindromo??'))\n",
    "print(palabra)\n",
    "\n",
    "\n",
    "def es_palindromo(palabra):\n",
    "    palabra = palabra[::-1]\n",
    "    \n",
    "\n",
    "es_palindromo(palabra)\n",
    "   \n",
    "\n",
    "#print(es_palindromo(palabra))"
   ]
  },
  {
   "cell_type": "markdown",
   "metadata": {},
   "source": []
  },
  {
   "cell_type": "markdown",
   "metadata": {},
   "source": [
    "4.Calcular el promedio de una lista de números.\n",
    "Descripción: Crea una función llamada calcular_promedio que tome una lista de números como parámetro y devuelva el promedio de todos sus elementos."
   ]
  },
  {
   "cell_type": "code",
   "execution_count": 10,
   "metadata": {},
   "outputs": [
    {
     "ename": "SyntaxError",
     "evalue": "invalid syntax (1523179109.py, line 13)",
     "output_type": "error",
     "traceback": [
      "\u001b[0;36m  File \u001b[0;32m\"/var/folders/vc/6zzvx8k5237dtyhf94hsl1580000gp/T/ipykernel_23204/1523179109.py\"\u001b[0;36m, line \u001b[0;32m13\u001b[0m\n\u001b[0;31m    resultado = [(promedio= promedio + i/len(lista_numeros)) for i in lista_numeros]\u001b[0m\n\u001b[0m                          ^\u001b[0m\n\u001b[0;31mSyntaxError\u001b[0m\u001b[0;31m:\u001b[0m invalid syntax\n"
     ]
    }
   ],
   "source": [
    "def calcular_promedio(lista_numeros):\n",
    "    promedio = 0\n",
    "    print(len(lista_numeros))\n",
    "    for i in lista_numeros:\n",
    "        promedio = promedio + i /len(lista_numeros)\n",
    "    return promedio\n",
    "\n",
    "resultado = calcular_promedio([2,4,6])\n",
    "print(resultado)\n",
    "\n"
   ]
  },
  {
   "cell_type": "markdown",
   "metadata": {},
   "source": [
    "5.Calcular el interés compuesto.\n",
    "Descripción: Crea una función llamada calcular_interes_compuesto que tome el capital inicial, la tasa de interés y el número de períodos como parámetros y devuelva el beneficio final después del interés compuesto."
   ]
  },
  {
   "cell_type": "code",
   "execution_count": null,
   "metadata": {},
   "outputs": [],
   "source": []
  },
  {
   "cell_type": "markdown",
   "metadata": {},
   "source": [
    "6.Validar si una palabra es un anagrama de otra.\n",
    "Descripción: Crea una función llamada es_anagrama que tome dos palabras como parámetros y devuelva True si una es un anagrama de la otra, o False si no lo es."
   ]
  },
  {
   "cell_type": "code",
   "execution_count": 13,
   "metadata": {},
   "outputs": [
    {
     "name": "stdout",
     "output_type": "stream",
     "text": [
      "True\n"
     ]
    }
   ],
   "source": [
    "def es_anagrama(palabra1,palabra2):\n",
    "    palabra1 = list(palabra1)\n",
    "    palabra2 = list(palabra2)\n",
    "    list_anagrama = []\n",
    "    for i in palabra1:\n",
    "        if i in palabra2:\n",
    "            list_anagrama.append(i)\n",
    "    if len(palabra2) == len(list_anagrama):\n",
    "        return True\n",
    "    else:\n",
    "        return False\n",
    "\n",
    "print(es_anagrama('ropa','paro'))"
   ]
  },
  {
   "cell_type": "markdown",
   "metadata": {},
   "source": []
  },
  {
   "cell_type": "code",
   "execution_count": null,
   "metadata": {},
   "outputs": [],
   "source": [
    "7.Validar si una cadena de texto es un isograma.\n",
    "Descripción: Crea una función llamada es_isograma que tome una cadena de texto como parámetro y devuelva True si es un isograma. En caso contrario, devuelve False.\n",
    "¿Qué es un isograma? Una palabra que no contiene letras repetidas."
   ]
  },
  {
   "cell_type": "code",
   "execution_count": null,
   "metadata": {},
   "outputs": [],
   "source": []
  },
  {
   "cell_type": "markdown",
   "metadata": {},
   "source": [
    "8.Concatenar múltiples cadenas de texto\n",
    "Descripción: Crea una función llamada concatenar_cadenas que tome una cantidad variable de cadenas de texto como argumentos y devuelva una única cadena que contenga la concatenación de todas las cadenas ingresadas."
   ]
  },
  {
   "cell_type": "code",
   "execution_count": 15,
   "metadata": {},
   "outputs": [
    {
     "name": "stdout",
     "output_type": "stream",
     "text": [
      " Hola a todos como va la semana? la mia super!!\n"
     ]
    }
   ],
   "source": [
    "def concatenar_cadenas(*args):\n",
    "    texto_concatenado = \"\"\n",
    "    for i in args:\n",
    "        texto_concatenado = texto_concatenado + ' ' + i\n",
    "    return texto_concatenado\n",
    "\n",
    "texto_unido = concatenar_cadenas('Hola a todos','como va la semana?', 'la mia super!!')\n",
    "print(texto_unido)"
   ]
  },
  {
   "cell_type": "markdown",
   "metadata": {},
   "source": [
    "9.Crear un diccionario con información de una persona.\n",
    "Descripción: Crea una función llamada crear_persona que tome como argumentos clave-valor los datos de una persona, como nombre, edad, ciudad, etc., y devuelva un diccionario con toda la información ingresada."
   ]
  },
  {
   "cell_type": "code",
   "execution_count": null,
   "metadata": {},
   "outputs": [],
   "source": []
  },
  {
   "cell_type": "markdown",
   "metadata": {},
   "source": [
    "10.Encontrar el número que falta en una lista ordenada de números consecutivos.\n",
    "Descripción: Crea una función llamada encontrar_numero_faltante que tome una lista de números consecutivos (del 1 al N, sin repetir) con un número faltante y devuelva ese número faltante."
   ]
  },
  {
   "cell_type": "code",
   "execution_count": null,
   "metadata": {},
   "outputs": [],
   "source": [
    "\n",
    "        "
   ]
  },
  {
   "cell_type": "markdown",
   "metadata": {},
   "source": [
    "11.Encontrar el elemento duplicado en una lista de números.\n",
    "Descripción: Crea una función llamada encontrar_duplicado que tome una lista de números enteros y devuelva el elemento que está duplicado en la lista."
   ]
  },
  {
   "cell_type": "code",
   "execution_count": null,
   "metadata": {},
   "outputs": [],
   "source": []
  }
 ],
 "metadata": {
  "kernelspec": {
   "display_name": "base",
   "language": "python",
   "name": "python3"
  },
  "language_info": {
   "codemirror_mode": {
    "name": "ipython",
    "version": 3
   },
   "file_extension": ".py",
   "mimetype": "text/x-python",
   "name": "python",
   "nbconvert_exporter": "python",
   "pygments_lexer": "ipython3",
   "version": "3.9.7"
  }
 },
 "nbformat": 4,
 "nbformat_minor": 2
}
