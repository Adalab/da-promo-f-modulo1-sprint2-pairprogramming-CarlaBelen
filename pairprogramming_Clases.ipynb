{
 "cells": [
  {
   "cell_type": "code",
   "execution_count": null,
   "metadata": {},
   "outputs": [],
   "source": [
    "\n",
    "class Empleados:\n",
    "    \n",
    "    def __init__ (self, nombre, apellidos, edad, posicion, año, vacaciones, herramientas):\n",
    "        self.nombre = nombre\n",
    "        self.apellidos = apellidos\n",
    "        self.edad = edad\n",
    "        self.posicion = posicion\n",
    "        self.año = año\n",
    "        self.vacaciones = vacaciones\n",
    "        self.herramientas = herramientas\n",
    "    \n",
    "    def descripcion (self):\n",
    "        return f'La empleada {self.nombre} trabaja como {self.posicion}. Comenzó a trabajar aquí en el año {self.año} y le quedan por disfrutar {self.vacaciones} días de vacaciones este año.'\n",
    "        \n",
    "    def listaherramientas (self):\n",
    "        for _ in self.herramientas:\n",
    "            if _ == 'python':\n",
    "                print ('Python es la herramienta correcta')\n",
    "            elif _ == 'excel':\n",
    "                print ('Mejor Python que Excel')\n",
    "            else:\n",
    "                print (f'No estás usando ninguna de las 2 herramientas')\n",
    "    \n",
    "    \n",
    "    #def calcular_antiguedad (self):\n",
    "        \n",
    "        #No me saleeeeeeee 😥\n",
    "        \n",
    "    def solicitar_aumento_vacaciones(self):\n",
    "        permiso = int(input(\"¿Cuántos días de vacaciones te quieres tomar?\"))\n",
    "        if permiso > 0:\n",
    "            self.vacaciones += permiso\n",
    "            return f\"te han dado el permiso tienes {self.vacaciones} días de vacaciones\"\n",
    "        else:\n",
    "            return \"No te han dado el permiso tienes que volver a solicitarlo\"  \n",
    "        \n",
    "        \n",
    "    def registrar_herramienta (self, nueva_herramienta):\n",
    "    \n",
    "        if nueva_herramienta in self.herramientas:\n",
    "            return f\"Ya habías practicado esta herramienta antes\"\n",
    "    \n",
    "        else:\n",
    "            self.herramientas.append (nueva_herramienta)\n",
    "            return f\"Has adquirido destreza en ({nueva_herramienta})\"\n",
    "    \n",
    "        \n",
    "\n",
    "\n",
    " "
   ]
  }
 ],
 "metadata": {
  "kernelspec": {
   "display_name": "base",
   "language": "python",
   "name": "python3"
  },
  "language_info": {
   "name": "python",
   "version": "3.9.7"
  }
 },
 "nbformat": 4,
 "nbformat_minor": 2
}
