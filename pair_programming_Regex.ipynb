{
 "cells": [
  {
   "cell_type": "markdown",
   "metadata": {},
   "source": [
    "1. Validar un número de teléfono.\n",
    "Descripción: Verificar si una cadena representa un número de teléfono válido en el formato (XXX) XXX-XXXX.\n",
    "Probad para cada uno de los teléfonos que tenemos en la siguiente lista:"
   ]
  },
  {
   "cell_type": "code",
   "execution_count": 11,
   "metadata": {},
   "outputs": [
    {
     "name": "stdout",
     "output_type": "stream",
     "text": [
      "['(123) 456-7890', '(555) 238-1987']\n"
     ]
    }
   ],
   "source": [
    "import re\n",
    "\n",
    "telefonos_lista = [\"(123) 456-7890\", \"178 1890-733\", \"(555) 238-1987\", \"(123) 4560-7890\", \"(ABC) 098-1111\"]\n",
    "#print(telefonos_lista)\n",
    "#patron = \"(\\d{3})\\s\\d{3}-\\d{4}\"\n",
    "\n",
    "patron = \"\\W\\d{3}\\W\\s\\d{3}-\\d{4}\"\n",
    "\n",
    "telefonos_str= ','.join(telefonos_lista)\n",
    "\n",
    "\n",
    "\n",
    "numeros_correctos = re.findall(patron, telefonos_str)\n",
    "print(numeros_correctos)"
   ]
  },
  {
   "cell_type": "markdown",
   "metadata": {},
   "source": [
    "2. Buscar todas las direcciones de correo electrónico en un texto.\n",
    "Descripción: Encontrar todas las direcciones de correo electrónico presentes en una cadena de texto."
   ]
  },
  {
   "cell_type": "code",
   "execution_count": 12,
   "metadata": {},
   "outputs": [
    {
     "name": "stdout",
     "output_type": "stream",
     "text": [
      "['user@example.com', 'john.doe@email.com']\n",
      "['user@example.com', 'john.doe@email.com']\n"
     ]
    }
   ],
   "source": [
    "import re\n",
    "\n",
    "texto = \"Mi correo es user@example.com. Contacta conmigo en john.doe@email.com\"\n",
    "patron = r\"[a-zA-Z0-9._%+-]+@[a-z0-9.-]+.[a-z]\"\n",
    "\n",
    "coincidencias = re.findall(patron, texto)\n",
    "\n",
    "for patro in coincidencias:\n",
    "    print(coincidencias)"
   ]
  },
  {
   "cell_type": "markdown",
   "metadata": {},
   "source": [
    "3. Validar un código postal.\n",
    "Descripción: Verificar si una cadena representa un código postal válido de 5 dígitos.\n",
    "Probad para cada uno de los códigos postales que tenemos en la siguiente lista:"
   ]
  },
  {
   "cell_type": "code",
   "execution_count": 13,
   "metadata": {},
   "outputs": [
    {
     "name": "stdout",
     "output_type": "stream",
     "text": [
      "Los códigos postales válidos son los siguientes: ['12345', '78409', '19305']\n"
     ]
    }
   ],
   "source": [
    "#Buscamos los codigos postales correctos y los etemos en una lista\n",
    "codigos_postales = [\"12345\", \"190037\", \"78409\", \"986449\", \"19305\"]\n",
    "\n",
    "patron = '^\\d{5}$'\n",
    "lista_correcta =[]\n",
    "for num in codigos_postales:\n",
    "    if re.match(patron, num):\n",
    "        lista_correcta.append(num)\n",
    "        \n",
    "print('Los códigos postales válidos son los siguientes:', lista_correcta) \n"
   ]
  },
  {
   "cell_type": "markdown",
   "metadata": {},
   "source": [
    "4. Encontrar todas las palabras que comienzan con una vocal en un texto."
   ]
  },
  {
   "cell_type": "code",
   "execution_count": 14,
   "metadata": {},
   "outputs": [
    {
     "name": "stdout",
     "output_type": "stream",
     "text": [
      "['El', 'está', 'Ana', 'una', 'es']\n",
      "['El', 'está', 'Ana', 'una', 'es']\n",
      "['El', 'está', 'Ana', 'una', 'es']\n",
      "['El', 'está', 'Ana', 'una', 'es']\n",
      "['El', 'está', 'Ana', 'una', 'es']\n"
     ]
    }
   ],
   "source": [
    "import re\n",
    "texto = \"El perro está ladrando. Ana tiene una manzana. La casa es grande.\"\n",
    "patron = r'\\b[AEIOUaeiou]\\w+\\b'\n",
    "\n",
    "coincidencias = re.findall(patron, texto) \n",
    "\n",
    "for patron in coincidencias:\n",
    "    print(coincidencias)"
   ]
  },
  {
   "cell_type": "markdown",
   "metadata": {},
   "source": [
    "5. Extraer todos los hashtags de un texto.\n",
    "Descripción: Extraer todos los hashtags "
   ]
  },
  {
   "cell_type": "code",
   "execution_count": 18,
   "metadata": {},
   "outputs": [
    {
     "name": "stdout",
     "output_type": "stream",
     "text": [
      "['#regex', '#todos', '#Quijote', '#Mancha', '#nombre']\n"
     ]
    }
   ],
   "source": [
    "\n",
    "patron= '#\\w+'\n",
    "texto ='Esto es una prueba de #regex para sacar #todos los hashtags de mi texto del #Quijote:\\\n",
    "        En un lugar de la #Mancha de cuyo #nombre no quiero acordarme'\n",
    "lista_hashtags =[]\n",
    "lista_hashtags = re.findall(patron,texto)\n",
    "print(lista_hashtags)"
   ]
  },
  {
   "cell_type": "markdown",
   "metadata": {},
   "source": [
    "6. Buscar todos los números decimales en una cadena de texto.\n",
    "Descripción: Encontrar todos los números decimales presentes en una cadena de texto.\n",
    "Probad con el siguiente string:"
   ]
  },
  {
   "cell_type": "code",
   "execution_count": 15,
   "metadata": {},
   "outputs": [
    {
     "name": "stdout",
     "output_type": "stream",
     "text": [
      "['19.9', '25.5', '2.5']\n",
      "['19.9', '25.5', '2.5']\n",
      "['19.9', '25.5', '2.5']\n"
     ]
    }
   ],
   "source": [
    "import re\n",
    "\n",
    "texto = \"El precio es $19.99. La temperatura es 25.5°C. El índice de inflación es del 2.5%.\"     \n",
    "patron = r\"\\d+\\.\\d\";\n",
    "\n",
    "coincidencias = re.findall(patron, texto) \n",
    "\n",
    "for coincidencia in coincidencias:\n",
    "    print(coincidencias)"
   ]
  },
  {
   "cell_type": "markdown",
   "metadata": {},
   "source": [
    "7. Validar un nombre de usuario.\n",
    "Descripción: Verificar si una cadena representa un nombre de usuario válido, que contiene solo letras minúsculas, números y guiones bajos (_).\n",
    "Probad con la siguiente lista de usuarios:"
   ]
  },
  {
   "cell_type": "code",
   "execution_count": 19,
   "metadata": {},
   "outputs": [
    {
     "name": "stdout",
     "output_type": "stream",
     "text": [
      "[['juan_doe123'], ['lola_12'], [], ['12marta_lopez']]\n"
     ]
    }
   ],
   "source": [
    "lista_usuarios = [\"juan_doe123\", \"lola_12\", \"Aurora_23\", \"12marta_lopez\"]\n",
    "patron = '^[a-z0-9_]+$'\n",
    "lista_usuarios_validos = []\n",
    "for usuario in lista_usuarios:\n",
    "    lista_usuarios_validos.append(re.findall(patron,usuario))\n",
    "print(lista_usuarios_validos)\n"
   ]
  },
  {
   "cell_type": "markdown",
   "metadata": {},
   "source": [
    "8. Encontrar todas las fechas en formato \"dd/mm/aaaa\" en un texto.\n",
    "Descripción: Encontrar todas las fechas válidas en formato \"dd/mm/aaaa\" presentes en una cadena de texto.\n",
    "Probad con el siguiente string"
   ]
  },
  {
   "cell_type": "code",
   "execution_count": 16,
   "metadata": {},
   "outputs": [
    {
     "name": "stdout",
     "output_type": "stream",
     "text": [
      "[('31', '12', '2022'), ('01', '01', '2023'), ('15', '05', '1990')]\n",
      "[('31', '12', '2022'), ('01', '01', '2023'), ('15', '05', '1990')]\n",
      "[('31', '12', '2022'), ('01', '01', '2023'), ('15', '05', '1990')]\n"
     ]
    }
   ],
   "source": [
    "import re\n",
    "texto = \"La fecha límite es el 31/12/2022. Hoy es 01/01/2023. Cumpleaños: 15/05/1990.\"\n",
    "patron = r\"\\b(0[1-9]|[12]\\d|3[01])[-/](0[1-9]|1[0-2])[-/](19\\d\\d|20\\d\\d)\\b\"\n",
    "\n",
    "coincidencias = re.findall(patron, texto) \n",
    "\n",
    "for patron in coincidencias:\n",
    "    print(coincidencias)"
   ]
  },
  {
   "cell_type": "markdown",
   "metadata": {},
   "source": [
    "9. Remover caracteres especiales.\n",
    "Descripción: Dada una cadena de texto, remover cualquier carácter especial, como signos de puntuación y símbolos.\n",
    "Probad con el siguiente string:\n",
    "texto = '¡Hola, cómo estás? ¿Todo bien?'"
   ]
  },
  {
   "cell_type": "code",
   "execution_count": 21,
   "metadata": {},
   "outputs": [
    {
     "name": "stdout",
     "output_type": "stream",
     "text": [
      "Hola cmo ests Todo bien\n"
     ]
    }
   ],
   "source": [
    "patron = '[^a-zA-Z0-9\\s]'\n",
    "texto_original = '¡Hola, cómo estás? ¿Todo bien?'\n",
    "texto_nuevo= re.sub(patron, '', texto_original)\n",
    "print(texto_nuevo)"
   ]
  }
 ],
 "metadata": {
  "kernelspec": {
   "display_name": "base",
   "language": "python",
   "name": "python3"
  },
  "language_info": {
   "codemirror_mode": {
    "name": "ipython",
    "version": 3
   },
   "file_extension": ".py",
   "mimetype": "text/x-python",
   "name": "python",
   "nbconvert_exporter": "python",
   "pygments_lexer": "ipython3",
   "version": "3.9.7"
  }
 },
 "nbformat": 4,
 "nbformat_minor": 2
}
